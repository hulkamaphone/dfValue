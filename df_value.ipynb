{
 "cells": [
  {
   "cell_type": "markdown",
   "id": "cd1ef977",
   "metadata": {},
   "source": [
    "#### Ensure yfinance package is installed."
   ]
  },
  {
   "cell_type": "code",
   "execution_count": 1,
   "id": "1738fdb5",
   "metadata": {},
   "outputs": [],
   "source": [
    "# Install yfinance package.\n",
    "!pip install yfinance html5lib --q"
   ]
  },
  {
   "cell_type": "markdown",
   "id": "5266f96c",
   "metadata": {},
   "source": [
    "#### Define function to import metrics from a given stock list."
   ]
  },
  {
   "cell_type": "code",
   "execution_count": 2,
   "id": "1028b803",
   "metadata": {},
   "outputs": [],
   "source": [
    "import yfinance as yf\n",
    "import pandas as pd\n",
    "\n",
    "def get_stock_financial_metrics(ticker_symbol):\n",
    "    \"\"\"\n",
    "    Retrieves key financial metrics for a given stock ticker using yfinance.\n",
    "\n",
    "    Args:\n",
    "        ticker_symbol (str): The stock ticker symbol (e.g., \"AAPL\", \"MSFT\").\n",
    "\n",
    "    Returns:\n",
    "        dict: A dictionary containing the financial metrics.\n",
    "              Returns None for metrics not available.\n",
    "              Returns an error message string if the ticker is invalid or data cannot be fetched.\n",
    "    \"\"\"\n",
    "    try:\n",
    "        stock = yf.Ticker(ticker_symbol)\n",
    "        info = stock.info\n",
    "\n",
    "        # A more robust check for valid ticker data\n",
    "        if not info or 'symbol' not in info or info.get('symbol', '').lower() != ticker_symbol.lower():\n",
    "            # Check if it's a known \"bad\" ticker pattern from yfinance for delisted/problematic ones\n",
    "            if info.get('regularMarketPrice') is None and info.get('logo_url') == '': # Common pattern for invalid tickers\n",
    "                 return f\"Could not retrieve valid data for ticker: {ticker_symbol}. It might be an invalid or delisted ticker.\"\n",
    "            # If 'symbol' is present but doesn't match, it's odd, but let's flag it.\n",
    "            # If 'symbol' is missing, it's definitely problematic.\n",
    "            if 'symbol' not in info:\n",
    "                return f\"Could not retrieve valid data for ticker: {ticker_symbol}. Essential 'symbol' info missing.\"\n",
    "\n",
    "\n",
    "        metrics = {\n",
    "            \"ticker\": ticker_symbol, # Ensure ticker is always present\n",
    "            \"price\": info.get('currentPrice', info.get('regularMarketPrice', info.get('previousClose'))),\n",
    "            \"pe_ratio\": info.get('trailingPE', info.get('forwardPE')),\n",
    "            \"eps\": info.get('trailingEps', info.get('forwardEps')),\n",
    "            \"roe\": info.get('returnOnEquity'),\n",
    "            \"roa\": info.get('returnOnAssets'),\n",
    "            \"profit_margin\": info.get('profitMargins'), # Added profit margin\n",
    "            \"book_value_per_share\": info.get('bookValue'),\n",
    "            \"shares_outstanding\": info.get('sharesOutstanding'),\n",
    "            \"price_to_book\": info.get('priceToBook'),\n",
    "            \"shortName\": info.get('shortName') # Adding company name for clarity\n",
    "        }\n",
    "        return metrics\n",
    "\n",
    "    except Exception as e:\n",
    "        # For truly problematic tickers, yfinance might raise an exception before .info\n",
    "        # or if .info itself is problematic (e.g., not a dict)\n",
    "        return {\n",
    "            \"ticker\": ticker_symbol,\n",
    "            \"price\": None,\n",
    "            \"pe_ratio\": None,\n",
    "            \"eps\": None,\n",
    "            \"roe\": None,\n",
    "            \"roa\": None,\n",
    "            \"profit_margin\": None, # Added profit margin\n",
    "            \"book_value_per_share\": None,\n",
    "            \"shares_outstanding\": None,\n",
    "            \"price_to_book\": None,\n",
    "            \"shortName\": f\"Error: {str(e)}\", # Store error in a field\n",
    "            \"error_message\": str(e) # Explicit error message field\n",
    "        }\n",
    "\n",
    "\n",
    "def get_financials_for_stock_list(ticker_list):\n",
    "    \"\"\"\n",
    "    Fetches financial metrics for a list of stock tickers and returns them as a Pandas DataFrame.\n",
    "\n",
    "    Args:\n",
    "        ticker_list (list): A list of stock ticker symbols (e.g., [\"AAPL\", \"MSFT\", \"GOOGL\"]).\n",
    "\n",
    "    Returns:\n",
    "        pandas.DataFrame: A DataFrame containing the financial metrics for each stock.\n",
    "                          Includes an 'error_message' column for tickers where data couldn't be fetched.\n",
    "    \"\"\"\n",
    "    all_metrics_data = []\n",
    "    for ticker in ticker_list:\n",
    "        print(f\"Fetching data for {ticker}...\")\n",
    "        data = get_stock_financial_metrics(ticker)\n",
    "        \n",
    "        # If the function returns a string (our old error handling), convert to dict\n",
    "        if isinstance(data, str) and \"Could not retrieve\" in data: # Check for our specific error string\n",
    "            metrics_dict = {\n",
    "                \"ticker\": ticker, \"price\": None, \"pe_ratio\": None, \"eps\": None,\n",
    "                \"roe\": None, \"roa\": None, \"profit_margin\": None, # Added profit margin\n",
    "                \"book_value_per_share\": None, \"shares_outstanding\": None, \n",
    "                \"price_to_book\": None, \"shortName\": None,\n",
    "                \"error_message\": data\n",
    "            }\n",
    "        elif isinstance(data, dict):\n",
    "            metrics_dict = data\n",
    "            if \"error_message\" not in metrics_dict: # Ensure error_message field exists\n",
    "                 metrics_dict[\"error_message\"] = None\n",
    "        else: # Should not happen with current get_stock_financial_metrics\n",
    "            metrics_dict = {\n",
    "                \"ticker\": ticker, \"price\": None, \"pe_ratio\": None, \"eps\": None,\n",
    "                \"roe\": None, \"roa\": None, \"profit_margin\": None, # Added profit margin\n",
    "                \"book_value_per_share\": None, \"shares_outstanding\": None, \n",
    "                \"price_to_book\": None, \"shortName\": None,\n",
    "                \"error_message\": \"Unknown error structure from get_stock_financial_metrics\"\n",
    "            }\n",
    "            \n",
    "        all_metrics_data.append(metrics_dict)\n",
    "        \n",
    "    # Create DataFrame from the list of dictionaries\n",
    "    df = pd.DataFrame(all_metrics_data)\n",
    "    \n",
    "    # Reorder columns to have ticker and shortName first, and error_message last\n",
    "    if not df.empty:\n",
    "        cols = [\"ticker\", \"shortName\", \"price\", \"pe_ratio\", \"eps\", \"roe\", \"roa\", \"profit_margin\",\n",
    "                \"book_value_per_share\", \"shares_outstanding\", \"price_to_book\", \"error_message\"]\n",
    "        # Filter out columns not present in the DataFrame (e.g., if all tickers failed identically)\n",
    "        existing_cols = [col for col in cols if col in df.columns]\n",
    "        df = df[existing_cols]\n",
    "        \n",
    "    return df"
   ]
  },
  {
   "cell_type": "markdown",
   "id": "8b522426",
   "metadata": {},
   "source": [
    "#### Execute function with current stock list and store into df \"successful_data_df\""
   ]
  },
  {
   "cell_type": "code",
   "execution_count": null,
   "id": "d39478cc",
   "metadata": {},
   "outputs": [],
   "source": [
    "# List of stock tickers you want to analyze\n",
    "stock_list = [\"APPL\"]"
   ]
  },
  {
   "cell_type": "code",
   "execution_count": 9,
   "id": "5762ab42",
   "metadata": {},
   "outputs": [
    {
     "name": "stdout",
     "output_type": "stream",
     "text": [
      "Starting financial data retrieval...\n",
      "Fetching data for APPL...\n"
     ]
    }
   ],
   "source": [
    "# Execute conditional for each stock and return specified metrics.\n",
    "if __name__ == \"__main__\":\n",
    "    print(\"Starting financial data retrieval...\")\n",
    "    financials_df = get_financials_for_stock_list(stock_list)\n",
    "\n",
    "    #print(\"\\n--- Financial Data DataFrame ---\")\n",
    "    #print(financials_df)\n",
    "\n",
    "    # Further analysis or saving the DataFrame\n",
    "    if not financials_df.empty:\n",
    "        #print(\"\\n--- DataFrame Info ---\")\n",
    "        #financials_df.info()\n",
    "\n",
    "        # Example: Filter out rows with errors for cleaner analysis\n",
    "        successful_data_df = financials_df[financials_df['error_message'].isnull()].copy() # Use .copy() to avoid SettingWithCopyWarning\n",
    "        \n",
    "        # Convert relevant columns to numeric, coercing errors to NaN\n",
    "        numeric_cols = [\"price\", \"pe_ratio\", \"eps\", \"roe\", \"roa\", \"profit_margin\", \n",
    "                        \"book_value_per_share\", \"shares_outstanding\", \"price_to_book\"]\n",
    "        for col in numeric_cols:\n",
    "            if col in successful_data_df.columns:\n",
    "                successful_data_df[col] = pd.to_numeric(successful_data_df[col], errors='coerce')"
   ]
  },
  {
   "cell_type": "markdown",
   "id": "b5485691",
   "metadata": {},
   "source": [
    "---"
   ]
  },
  {
   "cell_type": "markdown",
   "id": "eabf61a3",
   "metadata": {},
   "source": [
    "#### Analysis: Explore DF"
   ]
  },
  {
   "cell_type": "code",
   "execution_count": 10,
   "id": "0a310188",
   "metadata": {},
   "outputs": [
    {
     "data": {
      "text/html": [
       "<div>\n",
       "<style scoped>\n",
       "    .dataframe tbody tr th:only-of-type {\n",
       "        vertical-align: middle;\n",
       "    }\n",
       "\n",
       "    .dataframe tbody tr th {\n",
       "        vertical-align: top;\n",
       "    }\n",
       "\n",
       "    .dataframe thead th {\n",
       "        text-align: right;\n",
       "    }\n",
       "</style>\n",
       "<table border=\"1\" class=\"dataframe\">\n",
       "  <thead>\n",
       "    <tr style=\"text-align: right;\">\n",
       "      <th></th>\n",
       "      <th>ticker</th>\n",
       "      <th>shortName</th>\n",
       "      <th>price</th>\n",
       "      <th>pe_ratio</th>\n",
       "      <th>eps</th>\n",
       "      <th>roe</th>\n",
       "      <th>roa</th>\n",
       "      <th>profit_margin</th>\n",
       "      <th>book_value_per_share</th>\n",
       "      <th>shares_outstanding</th>\n",
       "      <th>price_to_book</th>\n",
       "      <th>error_message</th>\n",
       "    </tr>\n",
       "  </thead>\n",
       "  <tbody>\n",
       "    <tr>\n",
       "      <th>0</th>\n",
       "      <td>APPL</td>\n",
       "      <td>None</td>\n",
       "      <td>NaN</td>\n",
       "      <td>NaN</td>\n",
       "      <td>NaN</td>\n",
       "      <td>NaN</td>\n",
       "      <td>NaN</td>\n",
       "      <td>NaN</td>\n",
       "      <td>NaN</td>\n",
       "      <td>NaN</td>\n",
       "      <td>NaN</td>\n",
       "      <td>None</td>\n",
       "    </tr>\n",
       "  </tbody>\n",
       "</table>\n",
       "</div>"
      ],
      "text/plain": [
       "  ticker shortName  price  pe_ratio  eps  roe  roa  profit_margin  \\\n",
       "0   APPL      None    NaN       NaN  NaN  NaN  NaN            NaN   \n",
       "\n",
       "   book_value_per_share  shares_outstanding  price_to_book error_message  \n",
       "0                   NaN                 NaN            NaN          None  "
      ]
     },
     "execution_count": 10,
     "metadata": {},
     "output_type": "execute_result"
    }
   ],
   "source": [
    "successful_data_df"
   ]
  },
  {
   "cell_type": "code",
   "execution_count": null,
   "id": "1138b7dc",
   "metadata": {},
   "outputs": [],
   "source": []
  }
 ],
 "metadata": {
  "kernelspec": {
   "display_name": "base",
   "language": "python",
   "name": "python3"
  },
  "language_info": {
   "codemirror_mode": {
    "name": "ipython",
    "version": 3
   },
   "file_extension": ".py",
   "mimetype": "text/x-python",
   "name": "python",
   "nbconvert_exporter": "python",
   "pygments_lexer": "ipython3",
   "version": "3.12.7"
  },
  "toc-autonumbering": false,
  "toc-showmarkdowntxt": true
 },
 "nbformat": 4,
 "nbformat_minor": 5
}
